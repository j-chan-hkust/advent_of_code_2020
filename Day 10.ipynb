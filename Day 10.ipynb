{
 "cells": [
  {
   "cell_type": "code",
   "execution_count": 114,
   "metadata": {},
   "outputs": [
    {
     "data": {
      "text/plain": [
       "#'user/input-str"
      ]
     },
     "execution_count": 114,
     "metadata": {},
     "output_type": "execute_result"
    }
   ],
   "source": [
    "(def input-str \"151\n",
    "94\n",
    "14\n",
    "118\n",
    "25\n",
    "143\n",
    "33\n",
    "23\n",
    "80\n",
    "95\n",
    "87\n",
    "44\n",
    "150\n",
    "39\n",
    "148\n",
    "51\n",
    "138\n",
    "121\n",
    "70\n",
    "69\n",
    "90\n",
    "155\n",
    "144\n",
    "40\n",
    "77\n",
    "8\n",
    "97\n",
    "45\n",
    "152\n",
    "58\n",
    "65\n",
    "63\n",
    "128\n",
    "101\n",
    "31\n",
    "112\n",
    "140\n",
    "86\n",
    "30\n",
    "55\n",
    "104\n",
    "135\n",
    "115\n",
    "16\n",
    "26\n",
    "60\n",
    "96\n",
    "85\n",
    "84\n",
    "48\n",
    "4\n",
    "131\n",
    "54\n",
    "52\n",
    "139\n",
    "76\n",
    "91\n",
    "46\n",
    "15\n",
    "17\n",
    "37\n",
    "156\n",
    "134\n",
    "98\n",
    "83\n",
    "111\n",
    "72\n",
    "34\n",
    "7\n",
    "108\n",
    "149\n",
    "116\n",
    "32\n",
    "110\n",
    "47\n",
    "157\n",
    "75\n",
    "13\n",
    "10\n",
    "145\n",
    "1\n",
    "127\n",
    "41\n",
    "53\n",
    "2\n",
    "3\n",
    "117\n",
    "71\n",
    "109\n",
    "105\n",
    "64\n",
    "27\n",
    "38\n",
    "59\n",
    "24\n",
    "20\n",
    "124\n",
    "9\n",
    "66\n",
    "0\n",
    "160\")"
   ]
  },
  {
   "cell_type": "code",
   "execution_count": 118,
   "metadata": {},
   "outputs": [
    {
     "data": {
      "text/plain": [
       "#'user/answer-1"
      ]
     },
     "execution_count": 118,
     "metadata": {},
     "output_type": "execute_result"
    }
   ],
   "source": [
    "(require '[clojure.string :as str])\n",
    "\n",
    "(defn answer-1 [input-str]\n",
    "    (def sorted-list (sort (map read-string (str/split input-str #\"\\n\"))))\n",
    "    (def differences (mapv - (rest sorted-list)(drop-last sorted-list)))\n",
    "    (* (count (filterv #(= 1 %) differences))(count (filterv #(= 3 %) differences))))"
   ]
  },
  {
   "cell_type": "code",
   "execution_count": 119,
   "metadata": {},
   "outputs": [
    {
     "data": {
      "text/plain": [
       "2100"
      ]
     },
     "execution_count": 119,
     "metadata": {},
     "output_type": "execute_result"
    }
   ],
   "source": [
    "(answer-1 input-str)"
   ]
  },
  {
   "cell_type": "code",
   "execution_count": 111,
   "metadata": {},
   "outputs": [
    {
     "data": {
      "text/plain": [
       "(0 1 2 3 4 7 8 9 10 13 14 15 16 17 20 23 24 25 26 27 30 31 32 33 34 37 38 39 40 41 44 45 46 47 48 51 52 53 54 55 58 59 60 63 64 65 66 69 70 71 72 75 76 77 80 83 84 85 86 87 90 91 94 95 96 97 98 101 104 105 108 109 110 111 112 115 116 117 118 121 124 127 128 131 134 135 138 139 140 143 144 145 148 149 150 151 152 155 156 157 160)"
      ]
     },
     "execution_count": 111,
     "metadata": {},
     "output_type": "execute_result"
    }
   ],
   "source": [
    "(sort (map read-string (str/split input-str #\"\\n\")))"
   ]
  },
  {
   "cell_type": "markdown",
   "metadata": {},
   "source": [
    "Reflection on part 1: didn't read question carefully, didn't include the jumps at the start and the beginning. this code will probably break when I try it for different use-cases\n",
    "\n",
    "Next question: looking at the distribution of the questions, it seems that there aren't more than 4 \"1\"s in a row. Means I can just sort of hard solve number of iterations for each grouping of 1s in a brute force way.\n",
    "\n",
    "1: 1 way\n",
    "2: 2 ways\n",
    "3: 4 ways\n",
    "4: 7 ways\n",
    "5: 13 ways"
   ]
  },
  {
   "cell_type": "code",
   "execution_count": 115,
   "metadata": {},
   "outputs": [
    {
     "data": {
      "text/plain": [
       "#'user/answer-2"
      ]
     },
     "execution_count": 115,
     "metadata": {},
     "output_type": "execute_result"
    }
   ],
   "source": [
    "(defn answer-2 [input-str]\n",
    "    (def sorted-list (sort (map read-string (str/split input-str #\"\\n\"))))\n",
    "    (def differences (mapv - (rest sorted-list)(drop-last sorted-list)))\n",
    "    (def multiplication-dict [0 1 2 4 7 13])\n",
    "    (reduce * (map multiplication-dict (map count (filter #(= (first %) 1) (partition-by #(= 3 %) differences))))))"
   ]
  },
  {
   "cell_type": "code",
   "execution_count": 116,
   "metadata": {},
   "outputs": [
    {
     "data": {
      "text/plain": [
       "2"
      ]
     },
     "execution_count": 116,
     "metadata": {},
     "output_type": "execute_result"
    }
   ],
   "source": [
    "(def multiplication-dict [0 1 2 4 7 13])\n",
    "(multiplication-dict 2)"
   ]
  },
  {
   "cell_type": "code",
   "execution_count": 117,
   "metadata": {},
   "outputs": [
    {
     "data": {
      "text/plain": [
       "16198260678656"
      ]
     },
     "execution_count": 117,
     "metadata": {},
     "output_type": "execute_result"
    }
   ],
   "source": [
    "(answer-2 input-str)"
   ]
  },
  {
   "cell_type": "code",
   "execution_count": 83,
   "metadata": {},
   "outputs": [
    {
     "data": {
      "text/plain": [
       "#'user/test-input"
      ]
     },
     "execution_count": 83,
     "metadata": {},
     "output_type": "execute_result"
    }
   ],
   "source": [
    "(def test-input \"16\n",
    "10\n",
    "15\n",
    "5\n",
    "1\n",
    "11\n",
    "7\n",
    "19\n",
    "6\n",
    "12\n",
    "4\n",
    "0\n",
    "22\")"
   ]
  },
  {
   "cell_type": "code",
   "execution_count": 93,
   "metadata": {},
   "outputs": [
    {
     "data": {
      "text/plain": [
       "(1 1 1 2)"
      ]
     },
     "execution_count": 93,
     "metadata": {},
     "output_type": "execute_result"
    }
   ],
   "source": [
    "(answer-2 test-input)"
   ]
  },
  {
   "cell_type": "markdown",
   "metadata": {},
   "source": [
    "Reflection:\n",
    "Wow. So the code ended up being a lot shorter, but my solution took a lot of iteration, and ended up with me having to work out the solution for different number of solutions by hand, and hard coding it in as a list that would get referenced.\n",
    "Very ugly hard coding, which probably will fail in the future.\n",
    "I also hard coded in adding 0 and (+ 3 max) into the list, its a lot faster than figuring out how to do it programatically."
   ]
  }
 ],
 "metadata": {
  "kernelspec": {
   "display_name": "Clojure (clojupyter=0.3.2=1)",
   "language": "clojure",
   "name": "conda-clojupyter"
  },
  "language_info": {
   "file_extension": ".clj",
   "mimetype": "text/x-clojure",
   "name": "clojure",
   "version": "1.10.1"
  }
 },
 "nbformat": 4,
 "nbformat_minor": 2
}
